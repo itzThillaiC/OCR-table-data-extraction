{
  "cells": [
    {
      "cell_type": "markdown",
      "metadata": {
        "id": "view-in-github",
        "colab_type": "text"
      },
      "source": [
        "<a href=\"https://colab.research.google.com/github/itzThillaiC/OCR-table-data-extraction-/blob/main/Bank_statement.ipynb\" target=\"_parent\"><img src=\"https://colab.research.google.com/assets/colab-badge.svg\" alt=\"Open In Colab\"/></a>"
      ]
    },
    {
      "cell_type": "code",
      "source": [
        "from PIL import Image\n",
        "import cv2\n",
        "import numpy as np\n",
        "import pandas as pd \n",
        "import tensorflow as tf"
      ],
      "metadata": {
        "id": "mhEjVUbiUytV"
      },
      "execution_count": 1,
      "outputs": []
    },
    {
      "cell_type": "code",
      "source": [
        "#!pip install paddlepaddle-gpu==2.3.2 cudatoolkit==10.2"
      ],
      "metadata": {
        "id": "JejuCeNXHckg"
      },
      "execution_count": 2,
      "outputs": []
    },
    {
      "cell_type": "code",
      "source": [
        "!pip install paddlepaddle-gpu==2.3.0.post110 -f https://www.paddlepaddle.org.cn/whl/linux/mkl/avx/stable.html"
      ],
      "metadata": {
        "colab": {
          "base_uri": "https://localhost:8080/"
        },
        "id": "xWhdOt9Jay6z",
        "outputId": "a4c47dd8-a6f8-4665-b554-ea4d4bbeec60"
      },
      "execution_count": 3,
      "outputs": [
        {
          "output_type": "stream",
          "name": "stdout",
          "text": [
            "Looking in indexes: https://pypi.org/simple, https://us-python.pkg.dev/colab-wheels/public/simple/\n",
            "Looking in links: https://www.paddlepaddle.org.cn/whl/linux/mkl/avx/stable.html\n",
            "Requirement already satisfied: paddlepaddle-gpu==2.3.0.post110 in /usr/local/lib/python3.8/dist-packages (2.3.0.post110)\n",
            "Requirement already satisfied: opt-einsum==3.3.0 in /usr/local/lib/python3.8/dist-packages (from paddlepaddle-gpu==2.3.0.post110) (3.3.0)\n",
            "Requirement already satisfied: Pillow in /usr/local/lib/python3.8/dist-packages (from paddlepaddle-gpu==2.3.0.post110) (7.1.2)\n",
            "Requirement already satisfied: six in /usr/local/lib/python3.8/dist-packages (from paddlepaddle-gpu==2.3.0.post110) (1.15.0)\n",
            "Requirement already satisfied: paddle-bfloat==0.1.2 in /usr/local/lib/python3.8/dist-packages (from paddlepaddle-gpu==2.3.0.post110) (0.1.2)\n",
            "Requirement already satisfied: decorator in /usr/local/lib/python3.8/dist-packages (from paddlepaddle-gpu==2.3.0.post110) (4.4.2)\n",
            "Requirement already satisfied: numpy>=1.13 in /usr/local/lib/python3.8/dist-packages (from paddlepaddle-gpu==2.3.0.post110) (1.21.6)\n",
            "Requirement already satisfied: protobuf>=3.1.0 in /usr/local/lib/python3.8/dist-packages (from paddlepaddle-gpu==2.3.0.post110) (3.20.0)\n",
            "Requirement already satisfied: requests>=2.20.0 in /usr/local/lib/python3.8/dist-packages (from paddlepaddle-gpu==2.3.0.post110) (2.23.0)\n",
            "Requirement already satisfied: astor in /usr/local/lib/python3.8/dist-packages (from paddlepaddle-gpu==2.3.0.post110) (0.8.1)\n",
            "Requirement already satisfied: idna<3,>=2.5 in /usr/local/lib/python3.8/dist-packages (from requests>=2.20.0->paddlepaddle-gpu==2.3.0.post110) (2.10)\n",
            "Requirement already satisfied: chardet<4,>=3.0.2 in /usr/local/lib/python3.8/dist-packages (from requests>=2.20.0->paddlepaddle-gpu==2.3.0.post110) (3.0.4)\n",
            "Requirement already satisfied: urllib3!=1.25.0,!=1.25.1,<1.26,>=1.21.1 in /usr/local/lib/python3.8/dist-packages (from requests>=2.20.0->paddlepaddle-gpu==2.3.0.post110) (1.24.3)\n",
            "Requirement already satisfied: certifi>=2017.4.17 in /usr/local/lib/python3.8/dist-packages (from requests>=2.20.0->paddlepaddle-gpu==2.3.0.post110) (2022.9.24)\n"
          ]
        }
      ]
    },
    {
      "cell_type": "markdown",
      "metadata": {
        "id": "dvKiMyj2feUe"
      },
      "source": [
        "# pdf2image"
      ]
    },
    {
      "cell_type": "markdown",
      "source": [
        "## Installation"
      ],
      "metadata": {
        "id": "aIz56VvlWkf-"
      }
    },
    {
      "cell_type": "code",
      "source": [
        "!pip install pdf2image\n",
        "!apt-get update\n",
        "!apt-get install poppler-utils"
      ],
      "metadata": {
        "colab": {
          "base_uri": "https://localhost:8080/"
        },
        "id": "biSgyAkWnUD3",
        "outputId": "e5dc28c7-77f0-4042-cc91-deada2aadda8"
      },
      "execution_count": 4,
      "outputs": [
        {
          "output_type": "stream",
          "name": "stdout",
          "text": [
            "Looking in indexes: https://pypi.org/simple, https://us-python.pkg.dev/colab-wheels/public/simple/\n",
            "Requirement already satisfied: pdf2image in /usr/local/lib/python3.8/dist-packages (1.16.0)\n",
            "Requirement already satisfied: pillow in /usr/local/lib/python3.8/dist-packages (from pdf2image) (7.1.2)\n",
            "Hit:1 https://cloud.r-project.org/bin/linux/ubuntu bionic-cran40/ InRelease\n",
            "Ign:2 https://developer.download.nvidia.com/compute/machine-learning/repos/ubuntu1804/x86_64  InRelease\n",
            "Hit:3 https://developer.download.nvidia.com/compute/cuda/repos/ubuntu1804/x86_64  InRelease\n",
            "Hit:4 http://security.ubuntu.com/ubuntu bionic-security InRelease\n",
            "Hit:5 https://developer.download.nvidia.com/compute/machine-learning/repos/ubuntu1804/x86_64  Release\n",
            "Hit:6 http://archive.ubuntu.com/ubuntu bionic InRelease\n",
            "Hit:7 http://ppa.launchpad.net/c2d4u.team/c2d4u4.0+/ubuntu bionic InRelease\n",
            "Hit:8 http://archive.ubuntu.com/ubuntu bionic-updates InRelease\n",
            "Hit:9 http://archive.ubuntu.com/ubuntu bionic-backports InRelease\n",
            "Hit:10 http://ppa.launchpad.net/cran/libgit2/ubuntu bionic InRelease\n",
            "Hit:11 http://ppa.launchpad.net/deadsnakes/ppa/ubuntu bionic InRelease\n",
            "Hit:13 http://ppa.launchpad.net/graphics-drivers/ppa/ubuntu bionic InRelease\n",
            "Reading package lists... Done\n",
            "Reading package lists... Done\n",
            "Building dependency tree       \n",
            "Reading state information... Done\n",
            "poppler-utils is already the newest version (0.62.0-2ubuntu2.14).\n",
            "The following package was automatically installed and is no longer required:\n",
            "  libnvidia-common-460\n",
            "Use 'apt autoremove' to remove it.\n",
            "0 upgraded, 0 newly installed, 0 to remove and 22 not upgraded.\n"
          ]
        }
      ]
    },
    {
      "cell_type": "markdown",
      "source": [
        "## Conversion"
      ],
      "metadata": {
        "id": "pLaguCz1WmF9"
      }
    },
    {
      "cell_type": "code",
      "source": [
        "from pdf2image import convert_from_path"
      ],
      "metadata": {
        "id": "HI1dzCGmkeWI"
      },
      "execution_count": 5,
      "outputs": []
    },
    {
      "cell_type": "code",
      "source": [
        "images = convert_from_path('citibankstatement.pdf')"
      ],
      "metadata": {
        "id": "xyhjFgqjkgG7"
      },
      "execution_count": 7,
      "outputs": []
    },
    {
      "cell_type": "code",
      "source": [
        "!mkdir pages"
      ],
      "metadata": {
        "id": "M5hBWxpskgJW",
        "colab": {
          "base_uri": "https://localhost:8080/"
        },
        "outputId": "804e9e83-c3e9-4090-d111-2773b29417ea"
      },
      "execution_count": 8,
      "outputs": [
        {
          "output_type": "stream",
          "name": "stdout",
          "text": [
            "mkdir: cannot create directory ‘pages’: File exists\n"
          ]
        }
      ]
    },
    {
      "cell_type": "code",
      "source": [
        "for i in range(len(images)):\n",
        "  images[i].save('pages/page'+str(i)+'.jpg', 'JPEG')"
      ],
      "metadata": {
        "id": "7mlH9ltkkgMB"
      },
      "execution_count": 9,
      "outputs": []
    },
    {
      "cell_type": "markdown",
      "source": [
        "# Layout"
      ],
      "metadata": {
        "id": "Urwb7Q_OZC8t"
      }
    },
    {
      "cell_type": "markdown",
      "source": [
        "## Installation"
      ],
      "metadata": {
        "id": "vTkwQbF4FZPN"
      }
    },
    {
      "cell_type": "code",
      "source": [
        "#!python3 -m pip install paddlepaddle-gpu\n",
        "!pip install \"paddleocr>=2.0.1\"\n",
        "!pip install protobuf==3.20.0\n",
        "!git clone https://github.com/PaddlePaddle/PaddleOCR.git"
      ],
      "metadata": {
        "colab": {
          "base_uri": "https://localhost:8080/"
        },
        "id": "R0lRpQLkIpbZ",
        "outputId": "322e57d6-a10e-4945-fe14-33da1d159d06"
      },
      "execution_count": 10,
      "outputs": [
        {
          "output_type": "stream",
          "name": "stdout",
          "text": [
            "Looking in indexes: https://pypi.org/simple, https://us-python.pkg.dev/colab-wheels/public/simple/\n",
            "Requirement already satisfied: paddleocr>=2.0.1 in /usr/local/lib/python3.8/dist-packages (2.6.1.2)\n",
            "Requirement already satisfied: attrdict in /usr/local/lib/python3.8/dist-packages (from paddleocr>=2.0.1) (2.0.1)\n",
            "Requirement already satisfied: pyclipper in /usr/local/lib/python3.8/dist-packages (from paddleocr>=2.0.1) (1.3.0.post4)\n",
            "Requirement already satisfied: tqdm in /usr/local/lib/python3.8/dist-packages (from paddleocr>=2.0.1) (4.64.1)\n",
            "Requirement already satisfied: fire>=0.3.0 in /usr/local/lib/python3.8/dist-packages (from paddleocr>=2.0.1) (0.5.0)\n",
            "Requirement already satisfied: numpy in /usr/local/lib/python3.8/dist-packages (from paddleocr>=2.0.1) (1.21.6)\n",
            "Requirement already satisfied: cython in /usr/local/lib/python3.8/dist-packages (from paddleocr>=2.0.1) (0.29.32)\n",
            "Requirement already satisfied: opencv-contrib-python in /usr/local/lib/python3.8/dist-packages (from paddleocr>=2.0.1) (4.6.0.66)\n",
            "Requirement already satisfied: pdf2docx in /usr/local/lib/python3.8/dist-packages (from paddleocr>=2.0.1) (0.5.6)\n",
            "Requirement already satisfied: rapidfuzz in /usr/local/lib/python3.8/dist-packages (from paddleocr>=2.0.1) (2.13.6)\n",
            "Requirement already satisfied: python-docx in /usr/local/lib/python3.8/dist-packages (from paddleocr>=2.0.1) (0.8.11)\n",
            "Requirement already satisfied: lmdb in /usr/local/lib/python3.8/dist-packages (from paddleocr>=2.0.1) (0.99)\n",
            "Requirement already satisfied: beautifulsoup4 in /usr/local/lib/python3.8/dist-packages (from paddleocr>=2.0.1) (4.6.3)\n",
            "Requirement already satisfied: shapely in /usr/local/lib/python3.8/dist-packages (from paddleocr>=2.0.1) (1.8.5.post1)\n",
            "Requirement already satisfied: fonttools>=4.24.0 in /usr/local/lib/python3.8/dist-packages (from paddleocr>=2.0.1) (4.38.0)\n",
            "Requirement already satisfied: lxml in /usr/local/lib/python3.8/dist-packages (from paddleocr>=2.0.1) (4.9.1)\n",
            "Requirement already satisfied: scikit-image in /usr/local/lib/python3.8/dist-packages (from paddleocr>=2.0.1) (0.18.3)\n",
            "Requirement already satisfied: opencv-python in /usr/local/lib/python3.8/dist-packages (from paddleocr>=2.0.1) (4.6.0.66)\n",
            "Requirement already satisfied: openpyxl in /usr/local/lib/python3.8/dist-packages (from paddleocr>=2.0.1) (3.0.10)\n",
            "Requirement already satisfied: PyMuPDF<1.21.0 in /usr/local/lib/python3.8/dist-packages (from paddleocr>=2.0.1) (1.20.2)\n",
            "Requirement already satisfied: imgaug in /usr/local/lib/python3.8/dist-packages (from paddleocr>=2.0.1) (0.4.0)\n",
            "Requirement already satisfied: premailer in /usr/local/lib/python3.8/dist-packages (from paddleocr>=2.0.1) (3.10.0)\n",
            "Requirement already satisfied: visualdl in /usr/local/lib/python3.8/dist-packages (from paddleocr>=2.0.1) (2.4.1)\n",
            "Requirement already satisfied: six in /usr/local/lib/python3.8/dist-packages (from fire>=0.3.0->paddleocr>=2.0.1) (1.15.0)\n",
            "Requirement already satisfied: termcolor in /usr/local/lib/python3.8/dist-packages (from fire>=0.3.0->paddleocr>=2.0.1) (2.1.1)\n",
            "Requirement already satisfied: imageio in /usr/local/lib/python3.8/dist-packages (from imgaug->paddleocr>=2.0.1) (2.9.0)\n",
            "Requirement already satisfied: Pillow in /usr/local/lib/python3.8/dist-packages (from imgaug->paddleocr>=2.0.1) (7.1.2)\n",
            "Requirement already satisfied: matplotlib in /usr/local/lib/python3.8/dist-packages (from imgaug->paddleocr>=2.0.1) (3.2.2)\n",
            "Requirement already satisfied: scipy in /usr/local/lib/python3.8/dist-packages (from imgaug->paddleocr>=2.0.1) (1.7.3)\n",
            "Requirement already satisfied: networkx>=2.0 in /usr/local/lib/python3.8/dist-packages (from scikit-image->paddleocr>=2.0.1) (2.8.8)\n",
            "Requirement already satisfied: tifffile>=2019.7.26 in /usr/local/lib/python3.8/dist-packages (from scikit-image->paddleocr>=2.0.1) (2022.10.10)\n",
            "Requirement already satisfied: PyWavelets>=1.1.1 in /usr/local/lib/python3.8/dist-packages (from scikit-image->paddleocr>=2.0.1) (1.4.1)\n",
            "Requirement already satisfied: python-dateutil>=2.1 in /usr/local/lib/python3.8/dist-packages (from matplotlib->imgaug->paddleocr>=2.0.1) (2.8.2)\n",
            "Requirement already satisfied: kiwisolver>=1.0.1 in /usr/local/lib/python3.8/dist-packages (from matplotlib->imgaug->paddleocr>=2.0.1) (1.4.4)\n",
            "Requirement already satisfied: pyparsing!=2.0.4,!=2.1.2,!=2.1.6,>=2.0.1 in /usr/local/lib/python3.8/dist-packages (from matplotlib->imgaug->paddleocr>=2.0.1) (3.0.9)\n",
            "Requirement already satisfied: cycler>=0.10 in /usr/local/lib/python3.8/dist-packages (from matplotlib->imgaug->paddleocr>=2.0.1) (0.11.0)\n",
            "Requirement already satisfied: et-xmlfile in /usr/local/lib/python3.8/dist-packages (from openpyxl->paddleocr>=2.0.1) (1.1.0)\n",
            "Requirement already satisfied: requests in /usr/local/lib/python3.8/dist-packages (from premailer->paddleocr>=2.0.1) (2.23.0)\n",
            "Requirement already satisfied: cachetools in /usr/local/lib/python3.8/dist-packages (from premailer->paddleocr>=2.0.1) (5.2.0)\n",
            "Requirement already satisfied: cssutils in /usr/local/lib/python3.8/dist-packages (from premailer->paddleocr>=2.0.1) (2.6.0)\n",
            "Requirement already satisfied: cssselect in /usr/local/lib/python3.8/dist-packages (from premailer->paddleocr>=2.0.1) (1.2.0)\n",
            "Requirement already satisfied: idna<3,>=2.5 in /usr/local/lib/python3.8/dist-packages (from requests->premailer->paddleocr>=2.0.1) (2.10)\n",
            "Requirement already satisfied: chardet<4,>=3.0.2 in /usr/local/lib/python3.8/dist-packages (from requests->premailer->paddleocr>=2.0.1) (3.0.4)\n",
            "Requirement already satisfied: urllib3!=1.25.0,!=1.25.1,<1.26,>=1.21.1 in /usr/local/lib/python3.8/dist-packages (from requests->premailer->paddleocr>=2.0.1) (1.24.3)\n",
            "Requirement already satisfied: certifi>=2017.4.17 in /usr/local/lib/python3.8/dist-packages (from requests->premailer->paddleocr>=2.0.1) (2022.9.24)\n",
            "Requirement already satisfied: pandas in /usr/local/lib/python3.8/dist-packages (from visualdl->paddleocr>=2.0.1) (1.3.5)\n",
            "Requirement already satisfied: protobuf>=3.11.0 in /usr/local/lib/python3.8/dist-packages (from visualdl->paddleocr>=2.0.1) (3.20.0)\n",
            "Requirement already satisfied: multiprocess in /usr/local/lib/python3.8/dist-packages (from visualdl->paddleocr>=2.0.1) (0.70.14)\n",
            "Requirement already satisfied: bce-python-sdk in /usr/local/lib/python3.8/dist-packages (from visualdl->paddleocr>=2.0.1) (0.8.74)\n",
            "Requirement already satisfied: flask>=1.1.1 in /usr/local/lib/python3.8/dist-packages (from visualdl->paddleocr>=2.0.1) (1.1.4)\n",
            "Requirement already satisfied: packaging in /usr/local/lib/python3.8/dist-packages (from visualdl->paddleocr>=2.0.1) (21.3)\n",
            "Requirement already satisfied: Flask-Babel>=1.0.0 in /usr/local/lib/python3.8/dist-packages (from visualdl->paddleocr>=2.0.1) (2.0.0)\n",
            "Requirement already satisfied: Werkzeug<2.0,>=0.15 in /usr/local/lib/python3.8/dist-packages (from flask>=1.1.1->visualdl->paddleocr>=2.0.1) (1.0.1)\n",
            "Requirement already satisfied: click<8.0,>=5.1 in /usr/local/lib/python3.8/dist-packages (from flask>=1.1.1->visualdl->paddleocr>=2.0.1) (7.1.2)\n",
            "Requirement already satisfied: itsdangerous<2.0,>=0.24 in /usr/local/lib/python3.8/dist-packages (from flask>=1.1.1->visualdl->paddleocr>=2.0.1) (1.1.0)\n",
            "Requirement already satisfied: Jinja2<3.0,>=2.10.1 in /usr/local/lib/python3.8/dist-packages (from flask>=1.1.1->visualdl->paddleocr>=2.0.1) (2.11.3)\n",
            "Requirement already satisfied: Babel>=2.3 in /usr/local/lib/python3.8/dist-packages (from Flask-Babel>=1.0.0->visualdl->paddleocr>=2.0.1) (2.11.0)\n",
            "Requirement already satisfied: pytz in /usr/local/lib/python3.8/dist-packages (from Flask-Babel>=1.0.0->visualdl->paddleocr>=2.0.1) (2022.6)\n",
            "Requirement already satisfied: MarkupSafe>=0.23 in /usr/local/lib/python3.8/dist-packages (from Jinja2<3.0,>=2.10.1->flask>=1.1.1->visualdl->paddleocr>=2.0.1) (2.0.1)\n",
            "Requirement already satisfied: future>=0.6.0 in /usr/local/lib/python3.8/dist-packages (from bce-python-sdk->visualdl->paddleocr>=2.0.1) (0.16.0)\n",
            "Requirement already satisfied: pycryptodome>=3.8.0 in /usr/local/lib/python3.8/dist-packages (from bce-python-sdk->visualdl->paddleocr>=2.0.1) (3.16.0)\n",
            "Requirement already satisfied: dill>=0.3.6 in /usr/local/lib/python3.8/dist-packages (from multiprocess->visualdl->paddleocr>=2.0.1) (0.3.6)\n",
            "Looking in indexes: https://pypi.org/simple, https://us-python.pkg.dev/colab-wheels/public/simple/\n",
            "Requirement already satisfied: protobuf==3.20.0 in /usr/local/lib/python3.8/dist-packages (3.20.0)\n",
            "fatal: destination path 'PaddleOCR' already exists and is not an empty directory.\n"
          ]
        }
      ]
    },
    {
      "cell_type": "code",
      "source": [
        "a=5"
      ],
      "metadata": {
        "id": "IXEKTAa2_10K"
      },
      "execution_count": 11,
      "outputs": []
    },
    {
      "cell_type": "code",
      "source": [
        "!wget https://paddleocr.bj.bcebos.com/whl/layoutparser-0.0.0-py3-none-any.whl\n",
        "!pip install -U layoutparser-0.0.0-py3-none-any.whl"
      ],
      "metadata": {
        "colab": {
          "base_uri": "https://localhost:8080/"
        },
        "id": "8gWFgGl5CXu6",
        "outputId": "4cd10706-55ca-4aa0-da50-cf8db753fa23"
      },
      "execution_count": 12,
      "outputs": [
        {
          "output_type": "stream",
          "name": "stdout",
          "text": [
            "--2022-12-16 16:39:32--  https://paddleocr.bj.bcebos.com/whl/layoutparser-0.0.0-py3-none-any.whl\n",
            "Resolving paddleocr.bj.bcebos.com (paddleocr.bj.bcebos.com)... 103.235.46.61, 2409:8c04:1001:1002:0:ff:b001:368a\n",
            "Connecting to paddleocr.bj.bcebos.com (paddleocr.bj.bcebos.com)|103.235.46.61|:443... connected.\n",
            "HTTP request sent, awaiting response... 200 OK\n",
            "Length: 19145360 (18M) [application/octet-stream]\n",
            "Saving to: ‘layoutparser-0.0.0-py3-none-any.whl.1’\n",
            "\n",
            "layoutparser-0.0.0- 100%[===================>]  18.26M  3.66MB/s    in 14s     \n",
            "\n",
            "2022-12-16 16:39:48 (1.31 MB/s) - ‘layoutparser-0.0.0-py3-none-any.whl.1’ saved [19145360/19145360]\n",
            "\n",
            "Looking in indexes: https://pypi.org/simple, https://us-python.pkg.dev/colab-wheels/public/simple/\n",
            "Processing ./layoutparser-0.0.0-py3-none-any.whl\n",
            "Requirement already satisfied: pandas in /usr/local/lib/python3.8/dist-packages (from layoutparser==0.0.0) (1.3.5)\n",
            "Requirement already satisfied: opencv-python in /usr/local/lib/python3.8/dist-packages (from layoutparser==0.0.0) (4.6.0.66)\n",
            "Requirement already satisfied: numpy in /usr/local/lib/python3.8/dist-packages (from layoutparser==0.0.0) (1.21.6)\n",
            "Requirement already satisfied: iopath in /usr/local/lib/python3.8/dist-packages (from layoutparser==0.0.0) (0.1.10)\n",
            "Requirement already satisfied: tqdm in /usr/local/lib/python3.8/dist-packages (from layoutparser==0.0.0) (4.64.1)\n",
            "Requirement already satisfied: pillow in /usr/local/lib/python3.8/dist-packages (from layoutparser==0.0.0) (7.1.2)\n",
            "Requirement already satisfied: pyyaml>=5.1 in /usr/local/lib/python3.8/dist-packages (from layoutparser==0.0.0) (6.0)\n",
            "Requirement already satisfied: typing-extensions in /usr/local/lib/python3.8/dist-packages (from iopath->layoutparser==0.0.0) (4.4.0)\n",
            "Requirement already satisfied: portalocker in /usr/local/lib/python3.8/dist-packages (from iopath->layoutparser==0.0.0) (2.6.0)\n",
            "Requirement already satisfied: pytz>=2017.3 in /usr/local/lib/python3.8/dist-packages (from pandas->layoutparser==0.0.0) (2022.6)\n",
            "Requirement already satisfied: python-dateutil>=2.7.3 in /usr/local/lib/python3.8/dist-packages (from pandas->layoutparser==0.0.0) (2.8.2)\n",
            "Requirement already satisfied: six>=1.5 in /usr/local/lib/python3.8/dist-packages (from python-dateutil>=2.7.3->pandas->layoutparser==0.0.0) (1.15.0)\n",
            "layoutparser is already installed with the same version as the provided wheel. Use --force-reinstall to force an installation of the wheel.\n"
          ]
        }
      ]
    },
    {
      "cell_type": "markdown",
      "source": [
        "## Table Extraction"
      ],
      "metadata": {
        "id": "w5MA08E0F8aU"
      }
    },
    {
      "cell_type": "code",
      "source": [
        "import cv2\n",
        "import layoutparser as lp\n",
        "image = cv2.imread(\"/content/pages/page1.jpg\")\n",
        "\n",
        "image = image[..., ::-1]\n",
        "\n",
        "# load model\n",
        "model = lp.PaddleDetectionLayoutModel(config_path=\"lp://PubLayNet/ppyolov2_r50vd_dcn_365e_publaynet/config\",\n",
        "                                threshold=0.5,\n",
        "                                label_map={0: \"Text\", 1: \"Title\", 2: \"List\", 3:\"Table\", 4:\"Figure\"},\n",
        "                                enforce_cpu=False,\n",
        "                                enable_mkldnn=True)#math kernel library\n",
        "# detect\n",
        "layout = model.detect(image)"
      ],
      "metadata": {
        "id": "bw9SFYnMCX0E"
      },
      "execution_count": 25,
      "outputs": []
    },
    {
      "cell_type": "code",
      "source": [
        "layout"
      ],
      "metadata": {
        "id": "G76oO2WXCX6v",
        "colab": {
          "base_uri": "https://localhost:8080/"
        },
        "outputId": "c61f7503-e0e8-4fd9-dc30-87d2d91896f5"
      },
      "execution_count": 26,
      "outputs": [
        {
          "output_type": "execute_result",
          "data": {
            "text/plain": [
              "Layout(_blocks=[TextBlock(block=Rectangle(x_1=124.35540771484375, y_1=443.31475830078125, x_2=1532.647216796875, y_2=1689.260009765625), text=None, id=None, type=Table, parent=None, next=None, score=0.9693410396575928)], page_data={})"
            ]
          },
          "metadata": {},
          "execution_count": 26
        }
      ]
    },
    {
      "cell_type": "code",
      "source": [
        "x_1=0\n",
        "y_1=0\n",
        "x_2=0\n",
        "y_2=0\n",
        "\n",
        "for l in layout:\n",
        "  #print(l)\n",
        "  if l.type == 'Table':\n",
        "    x_1 = int(l.block.x_1)\n",
        "    print(l.block.x_1)\n",
        "    y_1 = int(l.block.y_1)\n",
        "    x_2 = int(l.block.x_2)\n",
        "    y_2 = int(l.block.y_2)\n",
        "    \n",
        "    break"
      ],
      "metadata": {
        "id": "y3h0kCz-CX_U",
        "colab": {
          "base_uri": "https://localhost:8080/"
        },
        "outputId": "e53ad78a-e3ea-4fa3-e8f8-669fb731be11"
      },
      "execution_count": 27,
      "outputs": [
        {
          "output_type": "stream",
          "name": "stdout",
          "text": [
            "124.35541\n"
          ]
        }
      ]
    },
    {
      "cell_type": "code",
      "source": [
        "print(x_1,y_1,x_2,y_2)"
      ],
      "metadata": {
        "id": "cdiYPeCJCYIg",
        "colab": {
          "base_uri": "https://localhost:8080/"
        },
        "outputId": "9198bfc7-6919-440d-8491-8f4e9141ca60"
      },
      "execution_count": 28,
      "outputs": [
        {
          "output_type": "stream",
          "name": "stdout",
          "text": [
            "124 443 1532 1689\n"
          ]
        }
      ]
    },
    {
      "cell_type": "code",
      "source": [
        "im = cv2.imread('/content/pages/page1.jpg')"
      ],
      "metadata": {
        "id": "F39kJV3hCYLV"
      },
      "execution_count": 29,
      "outputs": []
    },
    {
      "cell_type": "code",
      "source": [
        "cv2.imwrite('ext_im.jpg', im[y_1:y_2,x_1:x_2])"
      ],
      "metadata": {
        "id": "EQDXSNijCYPs",
        "colab": {
          "base_uri": "https://localhost:8080/"
        },
        "outputId": "ddbf4eb8-d3c7-470d-da4f-7d6576acbd48"
      },
      "execution_count": 30,
      "outputs": [
        {
          "output_type": "execute_result",
          "data": {
            "text/plain": [
              "True"
            ]
          },
          "metadata": {},
          "execution_count": 30
        }
      ]
    },
    {
      "cell_type": "code",
      "source": [],
      "metadata": {
        "id": "7O2P4aIMor_e"
      },
      "execution_count": null,
      "outputs": []
    },
    {
      "cell_type": "markdown",
      "metadata": {
        "id": "EGwGhHnd8i_h"
      },
      "source": [
        "# Text Detection and Recognition"
      ]
    },
    {
      "cell_type": "code",
      "source": [
        "from paddleocr import PaddleOCR, draw_ocr"
      ],
      "metadata": {
        "id": "N6WQZXhLLDWk"
      },
      "execution_count": 31,
      "outputs": []
    },
    {
      "cell_type": "code",
      "source": [
        "ocr = PaddleOCR(lang='en')\n",
        "image_path = '/content/ext_im.jpg'\n",
        "image_cv = cv2.imread(image_path)\n",
        "image_height = image_cv.shape[0]\n",
        "image_width = image_cv.shape[1]\n",
        "output = ocr.ocr(image_path)[0]"
      ],
      "metadata": {
        "colab": {
          "base_uri": "https://localhost:8080/"
        },
        "id": "A8bCZ9AULDZF",
        "outputId": "ac3cda21-79bd-4c37-c607-8093f15b6511"
      },
      "execution_count": 32,
      "outputs": [
        {
          "output_type": "stream",
          "name": "stdout",
          "text": [
            "[2022/12/16 16:41:59] ppocr DEBUG: Namespace(alpha=1.0, benchmark=False, beta=1.0, cls_batch_num=6, cls_image_shape='3, 48, 192', cls_model_dir='/root/.paddleocr/whl/cls/ch_ppocr_mobile_v2.0_cls_infer', cls_thresh=0.9, cpu_threads=10, crop_res_save_dir='./output', det=True, det_algorithm='DB', det_box_type='quad', det_db_box_thresh=0.6, det_db_score_mode='fast', det_db_thresh=0.3, det_db_unclip_ratio=1.5, det_east_cover_thresh=0.1, det_east_nms_thresh=0.2, det_east_score_thresh=0.8, det_limit_side_len=960, det_limit_type='max', det_model_dir='/root/.paddleocr/whl/det/en/en_PP-OCRv3_det_infer', det_pse_box_thresh=0.85, det_pse_min_area=16, det_pse_scale=1, det_pse_thresh=0, det_sast_nms_thresh=0.2, det_sast_score_thresh=0.5, draw_img_save_dir='./inference_results', drop_score=0.5, e2e_algorithm='PGNet', e2e_char_dict_path='./ppocr/utils/ic15_dict.txt', e2e_limit_side_len=768, e2e_limit_type='max', e2e_model_dir=None, e2e_pgnet_mode='fast', e2e_pgnet_score_thresh=0.5, e2e_pgnet_valid_set='totaltext', enable_mkldnn=False, fourier_degree=5, gpu_mem=500, help='==SUPPRESS==', image_dir=None, image_orientation=False, ir_optim=True, kie_algorithm='LayoutXLM', label_list=['0', '180'], lang='en', layout=True, layout_dict_path=None, layout_model_dir=None, layout_nms_threshold=0.5, layout_score_threshold=0.5, max_batch_size=10, max_text_length=25, merge_no_span_structure=True, min_subgraph_size=15, mode='structure', ocr=True, ocr_order_method=None, ocr_version='PP-OCRv3', output='./output', page_num=0, precision='fp32', process_id=0, re_model_dir=None, rec=True, rec_algorithm='SVTR_LCNet', rec_batch_num=6, rec_char_dict_path='/usr/local/lib/python3.8/dist-packages/paddleocr/ppocr/utils/en_dict.txt', rec_image_inverse=True, rec_image_shape='3, 48, 320', rec_model_dir='/root/.paddleocr/whl/rec/en/en_PP-OCRv3_rec_infer', recovery=False, save_crop_res=False, save_log_path='./log_output/', scales=[8, 16, 32], ser_dict_path='../train_data/XFUND/class_list_xfun.txt', ser_model_dir=None, show_log=True, sr_batch_num=1, sr_image_shape='3, 32, 128', sr_model_dir=None, structure_version='PP-StructureV2', table=True, table_algorithm='TableAttn', table_char_dict_path=None, table_max_len=488, table_model_dir=None, total_process_num=1, type='ocr', use_angle_cls=False, use_dilation=False, use_gpu=True, use_mp=False, use_npu=False, use_onnx=False, use_pdf2docx_api=False, use_pdserving=False, use_space_char=True, use_tensorrt=False, use_visual_backbone=True, use_xpu=False, vis_font_path='./doc/fonts/simfang.ttf', warmup=False)\n",
            "[2022/12/16 16:41:59] ppocr WARNING: Since the angle classifier is not initialized, the angle classifier will not be uesd during the forward process\n",
            "[2022/12/16 16:41:59] ppocr DEBUG: dt_boxes num : 98, elapse : 0.0963437557220459\n",
            "[2022/12/16 16:42:00] ppocr DEBUG: rec_res num  : 98, elapse : 0.2741849422454834\n"
          ]
        }
      ]
    },
    {
      "cell_type": "code",
      "source": [
        "print(output)"
      ],
      "metadata": {
        "colab": {
          "base_uri": "https://localhost:8080/"
        },
        "id": "VBIDZA0XLDeA",
        "outputId": "6466e984-71d7-4c4a-a872-7986e723283e"
      },
      "execution_count": 37,
      "outputs": [
        {
          "output_type": "stream",
          "name": "stdout",
          "text": [
            "[[[[3.0, 43.0], [54.0, 43.0], [54.0, 65.0], [3.0, 65.0]], ('03/05', 0.9997844696044922)], [[[147.0, 45.0], [267.0, 45.0], [267.0, 65.0], [147.0, 65.0]], ('17692819624', 0.9985954761505127)], [[[361.0, 45.0], [500.0, 45.0], [500.0, 65.0], [361.0, 65.0]], ('Adani Electricity', 0.9833509922027588)], [[[537.0, 42.0], [635.0, 45.0], [635.0, 67.0], [537.0, 63.0]], ('www.adan', 0.9958149790763855)], [[[1329.0, 45.0], [1404.0, 45.0], [1404.0, 68.0], [1329.0, 68.0]], ('7561.95', 0.9990621209144592)], [[[3.0, 97.0], [54.0, 97.0], [54.0, 118.0], [3.0, 118.0]], ('03/05', 0.9997413754463196)], [[[147.0, 98.0], [265.0, 98.0], [265.0, 118.0], [147.0, 118.0]], ('17695770402', 0.998777449131012)], [[[359.0, 98.0], [500.0, 98.0], [500.0, 118.0], [359.0, 118.0]], ('Adani Electricity', 0.9741377830505371)], [[[539.0, 96.0], [634.0, 100.0], [633.0, 120.0], [538.0, 117.0]], ('www.adan', 0.9889125227928162)], [[[1330.0, 97.0], [1402.0, 97.0], [1402.0, 118.0], [1330.0, 118.0]], ('6866.25', 0.9994797110557556)], [[[3.0, 150.0], [56.0, 150.0], [56.0, 172.0], [3.0, 172.0]], ('16/05', 0.9996614456176758)], [[[146.0, 147.0], [267.0, 150.0], [267.0, 172.0], [145.0, 169.0]], ('48214192783', 0.9992095828056335)], [[[358.0, 150.0], [518.0, 148.0], [518.0, 169.0], [358.0, 170.0]], ('ADANIELECMUM', 0.9971227645874023)], [[[585.0, 150.0], [667.0, 150.0], [667.0, 170.0], [585.0, 170.0]], ('MUMBAI', 0.9971590042114258)], [[[1329.0, 150.0], [1402.0, 150.0], [1402.0, 170.0], [1329.0, 170.0]], ('9019.56', 0.9980431795120239)], [[[3.0, 203.0], [54.0, 203.0], [54.0, 225.0], [3.0, 225.0]], ('18/05', 0.9998376965522766)], [[[147.0, 205.0], [267.0, 205.0], [267.0, 224.0], [147.0, 224.0]], ('00404901886', 0.9990711212158203)], [[[359.0, 203.0], [657.0, 205.0], [657.0, 225.0], [359.0, 224.0]], ('CIT*McAfee Ireland Lim Netherla', 0.9590081572532654)], [[[1327.0, 202.0], [1405.0, 202.0], [1405.0, 226.0], [1327.0, 226.0]], ('3499.00', 0.9998884797096252)], [[[1.0, 255.0], [56.0, 255.0], [56.0, 277.0], [1.0, 277.0]], ('24/05', 0.9986013174057007)], [[[145.0, 255.0], [267.0, 255.0], [267.0, 275.0], [145.0, 275.0]], ('00067144003', 0.9988682270050049)], [[[359.0, 254.0], [723.0, 254.0], [723.0, 273.0], [359.0, 273.0]], ('TOP DOGHEALTHCARE PVT -005/012', 0.9416502714157104)], [[[1339.0, 255.0], [1404.0, 255.0], [1404.0, 277.0], [1339.0, 277.0]], ('655.00', 0.9982975125312805)], [[[1.0, 307.0], [56.0, 307.0], [56.0, 329.0], [1.0, 329.0]], ('24/05', 0.9986182451248169)], [[[145.0, 309.0], [267.0, 309.0], [267.0, 329.0], [145.0, 329.0]], ('15347144003', 0.9993957877159119)], [[[358.0, 307.0], [723.0, 309.0], [723.0, 329.0], [358.0, 327.0]], ('TOP DOG HEALTHCARE PVT-005/012', 0.9433315396308899)], [[[1329.0, 309.0], [1404.0, 309.0], [1404.0, 329.0], [1329.0, 329.0]], ('9996.00', 0.9991106986999512)], [[[1.0, 361.0], [56.0, 361.0], [56.0, 382.0], [1.0, 382.0]], ('24/05', 0.9990434646606445)], [[[145.0, 362.0], [267.0, 362.0], [267.0, 381.0], [145.0, 381.0]], ('30043144003', 0.9994443655014038)], [[[361.0, 362.0], [700.0, 362.0], [700.0, 381.0], [361.0, 381.0]], ('BAFNA MEDICALand GEN-005/012', 0.9607389569282532)], [[[1339.0, 361.0], [1404.0, 361.0], [1404.0, 382.0], [1339.0, 382.0]], ('774.00', 0.9991920590400696)], [[[1.0, 414.0], [56.0, 414.0], [56.0, 436.0], [1.0, 436.0]], ('24/05', 0.9988414645195007)], [[[145.0, 415.0], [267.0, 415.0], [267.0, 434.0], [145.0, 434.0]], ('37633144003', 0.9992075562477112)], [[[361.0, 415.0], [700.0, 415.0], [700.0, 434.0], [361.0, 434.0]], ('ENHANCED PAYLITEEMI-014/036', 0.9774170517921448)], [[[1327.0, 412.0], [1405.0, 412.0], [1405.0, 437.0], [1327.0, 437.0]], ('9822.00', 0.9999324083328247)], [[[0.0, 464.0], [57.0, 464.0], [57.0, 490.0], [0.0, 490.0]], ('24/05', 0.9996365308761597)], [[[147.0, 467.0], [267.0, 467.0], [267.0, 487.0], [147.0, 487.0]], ('41078144003', 0.9993639588356018)], [[[359.0, 469.0], [541.0, 469.0], [541.0, 487.0], [359.0, 487.0]], ('Pasfar Technologies', 0.9744420051574707)], [[[534.0, 469.0], [647.0, 469.0], [647.0, 486.0], [534.0, 486.0]], ('-005/012', 0.9753645658493042)], [[[1338.0, 467.0], [1405.0, 467.0], [1405.0, 489.0], [1338.0, 489.0]], ('469.00', 0.9988741278648376)], [[[0.0, 514.0], [58.0, 518.0], [56.0, 544.0], [0.0, 540.0]], ('24/05', 0.9994041323661804)], [[[145.0, 519.0], [267.0, 519.0], [267.0, 539.0], [145.0, 539.0]], ('56476144003', 0.9989667534828186)], [[[361.0, 521.0], [701.0, 521.0], [701.0, 539.0], [361.0, 539.0]], ('BAFNAMEDICALand GEN-005/012', 0.9672524333000183)], [[[1339.0, 519.0], [1405.0, 519.0], [1405.0, 541.0], [1339.0, 541.0]], ('756.00', 0.9984673857688904)], [[[1.0, 573.0], [56.0, 573.0], [56.0, 594.0], [1.0, 594.0]], ('24/05', 0.9992262125015259)], [[[147.0, 573.0], [267.0, 573.0], [267.0, 593.0], [147.0, 593.0]], ('75815144003', 0.9994153380393982)], [[[359.0, 573.0], [546.0, 573.0], [546.0, 593.0], [359.0, 593.0]], ('PINNACLE IMAGINE', 0.9721832871437073)], [[[584.0, 573.0], [672.0, 573.0], [672.0, 593.0], [584.0, 593.0]], ('-005/012', 0.9835601449012756)], [[[1329.0, 573.0], [1404.0, 573.0], [1404.0, 593.0], [1329.0, 593.0]], ('1135.00', 0.9992326498031616)], [[[1.0, 624.0], [56.0, 624.0], [56.0, 646.0], [1.0, 646.0]], ('24/05', 0.9985694885253906)], [[[145.0, 626.0], [267.0, 626.0], [267.0, 645.0], [145.0, 645.0]], ('78984144003', 0.9989416003227234)], [[[359.0, 626.0], [723.0, 626.0], [723.0, 645.0], [359.0, 645.0]], ('TOP DOGHEALTHCARE PVT -005/012', 0.9457588195800781)], [[[1329.0, 626.0], [1404.0, 626.0], [1404.0, 646.0], [1329.0, 646.0]], ('1497.00', 0.999064028263092)], [[[1.0, 678.0], [56.0, 678.0], [56.0, 699.0], [1.0, 699.0]], ('24/05', 0.9990336298942566)], [[[145.0, 679.0], [267.0, 679.0], [267.0, 698.0], [145.0, 698.0]], ('88367144003', 0.998828113079071)], [[[358.0, 678.0], [541.0, 679.0], [541.0, 699.0], [358.0, 698.0]], ('Pasfar Technologies', 0.9790681600570679)], [[[541.0, 681.0], [647.0, 681.0], [647.0, 697.0], [541.0, 697.0]], ('-005/012', 0.9806985855102539)], [[[1327.0, 676.0], [1405.0, 676.0], [1405.0, 701.0], [1327.0, 701.0]], ('1339.00', 0.999812126159668)], [[[1.0, 730.0], [56.0, 730.0], [56.0, 751.0], [1.0, 751.0]], ('24/05', 0.9991563558578491)], [[[145.0, 731.0], [267.0, 731.0], [267.0, 750.0], [145.0, 750.0]], ('97030144003', 0.9990578293800354)], [[[361.0, 731.0], [648.0, 731.0], [648.0, 751.0], [361.0, 751.0]], ('Galaxy cloud kitchens -005/012', 0.9548730850219727)], [[[1339.0, 730.0], [1404.0, 730.0], [1404.0, 751.0], [1339.0, 751.0]], ('754.00', 0.9988310933113098)], [[[1.0, 783.0], [56.0, 783.0], [56.0, 805.0], [1.0, 805.0]], ('24/05', 0.998609721660614)], [[[145.0, 783.0], [267.0, 783.0], [267.0, 803.0], [145.0, 803.0]], ('99913144003', 0.9991627335548401)], [[[361.0, 785.0], [648.0, 785.0], [648.0, 803.0], [361.0, 803.0]], ('Galaxy cloud kitchens -005/006', 0.9611037969589233)], [[[1338.0, 783.0], [1405.0, 783.0], [1405.0, 805.0], [1338.0, 805.0]], ('971.00', 0.9980514645576477)], [[[0.0, 834.0], [57.0, 834.0], [57.0, 860.0], [0.0, 860.0]], ('24/05', 0.9998043179512024)], [[[359.0, 838.0], [761.0, 838.0], [761.0, 857.0], [359.0, 857.0]], ('INTERESTCHARGE@3.75%(45.0%ANNUAL)', 0.9944005012512207)], [[[1327.0, 835.0], [1405.0, 835.0], [1405.0, 860.0], [1327.0, 860.0]], ('6638.45', 0.9998798370361328)], [[[1.0, 888.0], [56.0, 888.0], [56.0, 910.0], [1.0, 910.0]], ('24/05', 0.9985694885253906)], [[[361.0, 890.0], [612.0, 890.0], [612.0, 909.0], [361.0, 909.0]], ('REVERSALOFIGST@ 18%', 0.9689741730690002)], [[[1301.0, 890.0], [1402.0, 890.0], [1402.0, 910.0], [1301.0, 910.0]], ('1673.38CR', 0.9974148273468018)], [[[1.0, 942.0], [56.0, 942.0], [56.0, 963.0], [1.0, 963.0]], ('24/05', 0.9990336298942566)], [[[359.0, 943.0], [477.0, 943.0], [477.0, 962.0], [359.0, 962.0]], ('IGST @ 18%', 0.9895886182785034)], [[[1328.0, 940.0], [1404.0, 943.0], [1403.0, 964.0], [1327.0, 960.0]], ('1994.52', 0.9981271028518677)], [[[1.0, 994.0], [53.0, 994.0], [53.0, 1015.0], [1.0, 1015.0]], ('Addit', 0.9972367286682129)], [[[145.0, 994.0], [238.0, 994.0], [238.0, 1014.0], [145.0, 1014.0]], ('ional Card', 0.9636750221252441)], [[[359.0, 995.0], [603.0, 995.0], [603.0, 1014.0], [359.0, 1014.0]], ('=>XXXX XXXX XXXX 5529', 0.9553564786911011)], [[[3.0, 1047.0], [54.0, 1047.0], [54.0, 1069.0], [3.0, 1069.0]], ('23/04', 0.9998630285263062)], [[[147.0, 1048.0], [265.0, 1048.0], [265.0, 1069.0], [147.0, 1069.0]], ('47773708259', 0.9987777471542358)], [[[359.0, 1047.0], [441.0, 1047.0], [441.0, 1067.0], [359.0, 1067.0]], ('SWIGGY', 0.9965773224830627)], [[[542.0, 1045.0], [622.0, 1049.0], [621.0, 1070.0], [541.0, 1067.0]], ('Bengalur', 0.9985346794128418)], [[[1330.0, 1044.0], [1402.0, 1047.0], [1401.0, 1069.0], [1328.0, 1065.0]], ('4518.00', 0.9997769594192505)], [[[0.0, 1097.0], [59.0, 1097.0], [59.0, 1123.0], [0.0, 1123.0]], ('23/04', 0.9996417164802551)], [[[147.0, 1100.0], [268.0, 1100.0], [268.0, 1121.0], [147.0, 1121.0]], ('47773941744', 0.999309778213501)], [[[359.0, 1100.0], [441.0, 1100.0], [441.0, 1121.0], [359.0, 1121.0]], ('SWIGGY', 0.9962415099143982)], [[[539.0, 1097.0], [624.0, 1101.0], [623.0, 1125.0], [538.0, 1122.0]], ('Bengalur', 0.9979831576347351)], [[[1326.0, 1099.0], [1405.0, 1099.0], [1405.0, 1123.0], [1326.0, 1123.0]], ('2171.00', 0.9998978972434998)], [[[1.0, 1152.0], [56.0, 1152.0], [56.0, 1174.0], [1.0, 1174.0]], ('25/04', 0.9983866810798645)], [[[145.0, 1154.0], [267.0, 1154.0], [267.0, 1174.0], [145.0, 1174.0]], ('00408309157', 0.9987905025482178)], [[[359.0, 1154.0], [594.0, 1154.0], [594.0, 1172.0], [359.0, 1172.0]], ('Freshtohome Foods Priv ', 0.9315043687820435)], [[[587.0, 1155.0], [697.0, 1155.0], [697.0, 1171.0], [587.0, 1171.0]], ('BANGALOR', 0.99762362241745)], [[[1338.0, 1154.0], [1405.0, 1154.0], [1405.0, 1174.0], [1338.0, 1174.0]], ('991.88', 0.9974125027656555)], [[[1.0, 1203.0], [57.0, 1203.0], [57.0, 1229.0], [1.0, 1229.0]], ('25/04', 0.9994410276412964)], [[[145.0, 1206.0], [265.0, 1206.0], [265.0, 1226.0], [145.0, 1226.0]], ('00410595629', 0.9978967905044556)], [[[358.0, 1206.0], [453.0, 1206.0], [453.0, 1226.0], [358.0, 1226.0]], ('JioPay PG', 0.9489176273345947)], [[[537.0, 1206.0], [619.0, 1206.0], [619.0, 1226.0], [537.0, 1226.0]], ('MUMBAI', 0.9969773292541504)], [[[1336.0, 1199.0], [1406.0, 1203.0], [1404.0, 1229.0], [1334.0, 1225.0]], ('555.00', 0.9965953230857849)]]\n"
          ]
        }
      ]
    },
    {
      "cell_type": "code",
      "source": [
        "boxes = [line[0] for line in output]\n",
        "texts = [line[1][0] for line in output]\n",
        "probabilities = [line[1][1] for line in output]"
      ],
      "metadata": {
        "id": "nNMBAQ78LDgG"
      },
      "execution_count": 39,
      "outputs": []
    },
    {
      "cell_type": "code",
      "source": [
        "image_boxes = image_cv.copy()\n"
      ],
      "metadata": {
        "id": "uukcg4SWV_dg"
      },
      "execution_count": 40,
      "outputs": []
    },
    {
      "cell_type": "code",
      "source": [
        "for box,text in zip(boxes,texts):\n",
        "  cv2.rectangle(image_boxes, (int(box[0][0]),int(box[0][1])), (int(box[2][0]),int(box[2][1])),(0,0,255),1)\n",
        "  cv2.putText(image_boxes, text,(int(box[0][0]),int(box[0][1])),cv2.FONT_HERSHEY_SIMPLEX,1,(222,0,0),1)"
      ],
      "metadata": {
        "id": "l_HzbiA7V_fw"
      },
      "execution_count": 41,
      "outputs": []
    },
    {
      "cell_type": "code",
      "source": [
        "cv2.imwrite('detections.jpg', image_boxes)"
      ],
      "metadata": {
        "colab": {
          "base_uri": "https://localhost:8080/"
        },
        "id": "PfUG9mcgV_iJ",
        "outputId": "524bb9d3-dd26-479a-db69-d4d9bf0a172b"
      },
      "execution_count": 42,
      "outputs": [
        {
          "output_type": "execute_result",
          "data": {
            "text/plain": [
              "True"
            ]
          },
          "metadata": {},
          "execution_count": 42
        }
      ]
    },
    {
      "cell_type": "markdown",
      "metadata": {
        "id": "kYWt0lzDHZNp"
      },
      "source": [
        "# Reconstruction"
      ]
    },
    {
      "cell_type": "markdown",
      "source": [
        "## Get Horizontal and Vertical Lines"
      ],
      "metadata": {
        "id": "ruzifYJz4H6y"
      }
    },
    {
      "cell_type": "code",
      "source": [
        "im = image_cv.copy()"
      ],
      "metadata": {
        "id": "YLIoKedcqby_"
      },
      "execution_count": 43,
      "outputs": []
    },
    {
      "cell_type": "code",
      "source": [
        "horiz_boxes = []\n",
        "vert_boxes = []\n",
        "\n",
        "for box in boxes:\n",
        "  x_h, x_v = 0,int(box[0][0])\n",
        "  y_h, y_v = int(box[0][1]),0\n",
        "  width_h,width_v = image_width, int(box[2][0]-box[0][0])\n",
        "  height_h,height_v = int(box[2][1]-box[0][1]),image_height\n",
        "\n",
        "  horiz_boxes.append([x_h,y_h,x_h+width_h,y_h+height_h])\n",
        "  vert_boxes.append([x_v,y_v,x_v+width_v,y_v+height_v])\n",
        "\n",
        "  cv2.rectangle(im,(x_h,y_h), (x_h+width_h,y_h+height_h),(0,0,255),1)\n",
        "  cv2.rectangle(im,(x_v,y_v), (x_v+width_v,y_v+height_v),(0,255,0),1)\n",
        "  "
      ],
      "metadata": {
        "id": "GwcAAe-wccnF"
      },
      "execution_count": 44,
      "outputs": []
    },
    {
      "cell_type": "code",
      "source": [
        "cv2.imwrite('horiz_vert.jpg',im)"
      ],
      "metadata": {
        "colab": {
          "base_uri": "https://localhost:8080/"
        },
        "id": "7UxFGhMkccph",
        "outputId": "16239f84-a0f0-483d-dd98-9fc040b2225c"
      },
      "execution_count": 45,
      "outputs": [
        {
          "output_type": "execute_result",
          "data": {
            "text/plain": [
              "True"
            ]
          },
          "metadata": {},
          "execution_count": 45
        }
      ]
    },
    {
      "cell_type": "markdown",
      "source": [
        "## Non-Max Suppression"
      ],
      "metadata": {
        "id": "ekVFvJrM4ROL"
      }
    },
    {
      "cell_type": "code",
      "source": [
        "horiz_out = tf.image.non_max_suppression(\n",
        "    horiz_boxes,\n",
        "    probabilities,\n",
        "    max_output_size = 1000,\n",
        "    iou_threshold=0.1,\n",
        "    score_threshold=float('-inf'),\n",
        "    name=None\n",
        ")"
      ],
      "metadata": {
        "id": "4LVSSB2fcoe7"
      },
      "execution_count": 46,
      "outputs": []
    },
    {
      "cell_type": "code",
      "source": [
        "horiz_lines = np.sort(np.array(horiz_out))\n",
        "print(horiz_lines)"
      ],
      "metadata": {
        "colab": {
          "base_uri": "https://localhost:8080/"
        },
        "id": "pOboYpGnccr2",
        "outputId": "b3d6c1a2-5486-435a-a4cb-4cd3091e0943"
      },
      "execution_count": 47,
      "outputs": [
        {
          "output_type": "stream",
          "name": "stdout",
          "text": [
            "[ 0  5 10 18 20 24 28 34 35 40 45 52 57 58 63 68 69 72 75 78 87 89 93]\n"
          ]
        }
      ]
    },
    {
      "cell_type": "code",
      "source": [
        "im_nms = image_cv.copy()"
      ],
      "metadata": {
        "id": "pfxHrn3iccyK"
      },
      "execution_count": 48,
      "outputs": []
    },
    {
      "cell_type": "code",
      "source": [
        "for val in horiz_lines:\n",
        "  cv2.rectangle(im_nms, (int(horiz_boxes[val][0]),int(horiz_boxes[val][1])), (int(horiz_boxes[val][2]),int(horiz_boxes[val][3])),(0,0,255),1)\n",
        "  "
      ],
      "metadata": {
        "id": "68PCHfmZcc0L"
      },
      "execution_count": 49,
      "outputs": []
    },
    {
      "cell_type": "code",
      "source": [
        "cv2.imwrite('im_nms.jpg',im_nms)"
      ],
      "metadata": {
        "colab": {
          "base_uri": "https://localhost:8080/"
        },
        "id": "Z8r9qpiAcc2X",
        "outputId": "0cd150af-29f5-4a9b-fd85-75c9eeab837e"
      },
      "execution_count": 50,
      "outputs": [
        {
          "output_type": "execute_result",
          "data": {
            "text/plain": [
              "True"
            ]
          },
          "metadata": {},
          "execution_count": 50
        }
      ]
    },
    {
      "cell_type": "code",
      "source": [
        "vert_out = tf.image.non_max_suppression(\n",
        "    vert_boxes,\n",
        "    probabilities,\n",
        "    max_output_size = 1000,\n",
        "    iou_threshold=0.1,\n",
        "    score_threshold=float('-inf'),\n",
        "    name=None\n",
        ")"
      ],
      "metadata": {
        "id": "mKgPuh7rcc4s"
      },
      "execution_count": 51,
      "outputs": []
    },
    {
      "cell_type": "code",
      "source": [
        "print(vert_out)"
      ],
      "metadata": {
        "colab": {
          "base_uri": "https://localhost:8080/"
        },
        "id": "GBpKsImVcc6p",
        "outputId": "4cff5206-95e5-4102-cb29-e63bdd4c2151"
      },
      "execution_count": 52,
      "outputs": [
        {
          "output_type": "stream",
          "name": "stdout",
          "text": [
            "tf.Tensor([34 78 28 81 12], shape=(5,), dtype=int32)\n"
          ]
        }
      ]
    },
    {
      "cell_type": "code",
      "source": [
        "vert_lines = np.sort(np.array(vert_out))\n",
        "print(vert_lines)"
      ],
      "metadata": {
        "colab": {
          "base_uri": "https://localhost:8080/"
        },
        "id": "K0lBh-yz5YLp",
        "outputId": "b07bac1d-732b-423c-8684-6f4c849acc57"
      },
      "execution_count": 53,
      "outputs": [
        {
          "output_type": "stream",
          "name": "stdout",
          "text": [
            "[12 28 34 78 81]\n"
          ]
        }
      ]
    },
    {
      "cell_type": "code",
      "source": [
        "for val in vert_lines:\n",
        "  cv2.rectangle(im_nms, (int(vert_boxes[val][0]),int(vert_boxes[val][1])), (int(vert_boxes[val][2]),int(vert_boxes[val][3])),(255,0,0),1)\n",
        "  "
      ],
      "metadata": {
        "id": "WqsLm0L_cc84"
      },
      "execution_count": 54,
      "outputs": []
    },
    {
      "cell_type": "code",
      "source": [
        "cv2.imwrite('im_nms.jpg',im_nms)"
      ],
      "metadata": {
        "colab": {
          "base_uri": "https://localhost:8080/"
        },
        "id": "xZOEa7lpcdGM",
        "outputId": "0f3ed4e5-80af-4968-f8a2-b734da6bbfd9"
      },
      "execution_count": 55,
      "outputs": [
        {
          "output_type": "execute_result",
          "data": {
            "text/plain": [
              "True"
            ]
          },
          "metadata": {},
          "execution_count": 55
        }
      ]
    },
    {
      "cell_type": "markdown",
      "source": [
        "## Convert to CSV"
      ],
      "metadata": {
        "id": "116eBUrO93-i"
      }
    },
    {
      "cell_type": "code",
      "source": [
        "\n",
        "\n",
        "out_array = [[\"\" for i in range(len(vert_lines))] for j in range(len(horiz_lines))]\n",
        "print(np.array(out_array).shape)\n",
        "print(out_array)"
      ],
      "metadata": {
        "colab": {
          "base_uri": "https://localhost:8080/"
        },
        "id": "HRQzwVUTcdIq",
        "outputId": "7a5ac0d1-040a-4784-afd3-838ed24719fc"
      },
      "execution_count": 56,
      "outputs": [
        {
          "output_type": "stream",
          "name": "stdout",
          "text": [
            "(23, 5)\n",
            "[['', '', '', '', ''], ['', '', '', '', ''], ['', '', '', '', ''], ['', '', '', '', ''], ['', '', '', '', ''], ['', '', '', '', ''], ['', '', '', '', ''], ['', '', '', '', ''], ['', '', '', '', ''], ['', '', '', '', ''], ['', '', '', '', ''], ['', '', '', '', ''], ['', '', '', '', ''], ['', '', '', '', ''], ['', '', '', '', ''], ['', '', '', '', ''], ['', '', '', '', ''], ['', '', '', '', ''], ['', '', '', '', ''], ['', '', '', '', ''], ['', '', '', '', ''], ['', '', '', '', ''], ['', '', '', '', '']]\n"
          ]
        }
      ]
    },
    {
      "cell_type": "code",
      "source": [
        "\n",
        "unordered_boxes = []\n",
        "\n",
        "for i in vert_lines:\n",
        "  print(vert_boxes[i])\n",
        "  unordered_boxes.append(vert_boxes[i][0])"
      ],
      "metadata": {
        "colab": {
          "base_uri": "https://localhost:8080/"
        },
        "id": "sSrupaRZIAk_",
        "outputId": "e9269ac2-75cd-408d-e8a6-1f2cbeccd26d"
      },
      "execution_count": 57,
      "outputs": [
        {
          "output_type": "stream",
          "name": "stdout",
          "text": [
            "[358, 0, 518, 1246]\n",
            "[145, 0, 267, 1246]\n",
            "[1327, 0, 1405, 1246]\n",
            "[3, 0, 54, 1246]\n",
            "[542, 0, 621, 1246]\n"
          ]
        }
      ]
    },
    {
      "cell_type": "code",
      "source": [
        "ordered_boxes = np.argsort(unordered_boxes)\n",
        "print(ordered_boxes)"
      ],
      "metadata": {
        "colab": {
          "base_uri": "https://localhost:8080/"
        },
        "id": "lRMlVNh_HuJV",
        "outputId": "94d3a517-3fa4-47cd-d7d4-a334575f7cd1"
      },
      "execution_count": 58,
      "outputs": [
        {
          "output_type": "stream",
          "name": "stdout",
          "text": [
            "[3 1 0 4 2]\n"
          ]
        }
      ]
    },
    {
      "cell_type": "code",
      "source": [
        "def intersection(box_1, box_2):\n",
        "  return [box_2[0], box_1[1],box_2[2], box_1[3]]"
      ],
      "metadata": {
        "id": "AHHaxKUuC6jQ"
      },
      "execution_count": 59,
      "outputs": []
    },
    {
      "cell_type": "code",
      "source": [
        "def iou(box_1, box_2):\n",
        "\n",
        "  x_1 = max(box_1[0], box_2[0])\n",
        "  y_1 = max(box_1[1], box_2[1])\n",
        "  x_2 = min(box_1[2], box_2[2])\n",
        "  y_2 = min(box_1[3], box_2[3])\n",
        "\n",
        "  inter = abs(max((x_2 - x_1, 0)) * max((y_2 - y_1), 0))\n",
        "  if inter == 0:\n",
        "      return 0\n",
        "      \n",
        "  box_1_area = abs((box_1[2] - box_1[0]) * (box_1[3] - box_1[1]))\n",
        "  box_2_area = abs((box_2[2] - box_2[0]) * (box_2[3] - box_2[1]))\n",
        "  \n",
        "  return inter / float(box_1_area + box_2_area - inter)"
      ],
      "metadata": {
        "id": "fDVb0DkxJSIf"
      },
      "execution_count": 60,
      "outputs": []
    },
    {
      "cell_type": "code",
      "source": [
        "for i in range(len(horiz_lines)):\n",
        "  for j in range(len(vert_lines)):\n",
        "    resultant = intersection(horiz_boxes[horiz_lines[i]], vert_boxes[vert_lines[ordered_boxes[j]]] )\n",
        "\n",
        "    for b in range(len(boxes)):\n",
        "      the_box = [boxes[b][0][0],boxes[b][0][1],boxes[b][2][0],boxes[b][2][1]]\n",
        "      if(iou(resultant,the_box)>0.1):\n",
        "        out_array[i][j] = texts[b]"
      ],
      "metadata": {
        "id": "LWGhCwg6BIoL"
      },
      "execution_count": 61,
      "outputs": []
    },
    {
      "cell_type": "code",
      "source": [
        "out_array=np.array(out_array)"
      ],
      "metadata": {
        "id": "c4tEY9LGNIM9"
      },
      "execution_count": 62,
      "outputs": []
    },
    {
      "cell_type": "code",
      "source": [
        "out_array"
      ],
      "metadata": {
        "id": "_ekto4-Ymxv2",
        "outputId": "42d77316-e24b-4287-b147-0f878f022b87",
        "colab": {
          "base_uri": "https://localhost:8080/"
        }
      },
      "execution_count": 63,
      "outputs": [
        {
          "output_type": "execute_result",
          "data": {
            "text/plain": [
              "array([['03/05', '17692819624', 'Adani Electricity', 'www.adan',\n",
              "        '7561.95'],\n",
              "       ['03/05', '17695770402', 'Adani Electricity', 'www.adan',\n",
              "        '6866.25'],\n",
              "       ['16/05', '48214192783', 'ADANIELECMUM', 'MUMBAI', '9019.56'],\n",
              "       ['18/05', '00404901886', 'CIT*McAfee Ireland Lim Netherla',\n",
              "        'CIT*McAfee Ireland Lim Netherla', '3499.00'],\n",
              "       ['24/05', '00067144003', 'TOP DOGHEALTHCARE PVT -005/012',\n",
              "        'TOP DOGHEALTHCARE PVT -005/012', '655.00'],\n",
              "       ['24/05', '15347144003', 'TOP DOG HEALTHCARE PVT-005/012',\n",
              "        'TOP DOG HEALTHCARE PVT-005/012', '9996.00'],\n",
              "       ['24/05', '30043144003', 'BAFNA MEDICALand GEN-005/012',\n",
              "        'BAFNA MEDICALand GEN-005/012', '774.00'],\n",
              "       ['24/05', '37633144003', 'ENHANCED PAYLITEEMI-014/036',\n",
              "        'ENHANCED PAYLITEEMI-014/036', '9822.00'],\n",
              "       ['24/05', '41078144003', 'Pasfar Technologies', '-005/012',\n",
              "        '469.00'],\n",
              "       ['24/05', '56476144003', 'BAFNAMEDICALand GEN-005/012',\n",
              "        'BAFNAMEDICALand GEN-005/012', '756.00'],\n",
              "       ['24/05', '75815144003', 'PINNACLE IMAGINE', '-005/012',\n",
              "        '1135.00'],\n",
              "       ['24/05', '78984144003', 'TOP DOGHEALTHCARE PVT -005/012',\n",
              "        'TOP DOGHEALTHCARE PVT -005/012', '1497.00'],\n",
              "       ['24/05', '88367144003', 'Pasfar Technologies', '-005/012',\n",
              "        '1339.00'],\n",
              "       ['24/05', '97030144003', 'Galaxy cloud kitchens -005/012',\n",
              "        'Galaxy cloud kitchens -005/012', '754.00'],\n",
              "       ['24/05', '99913144003', 'Galaxy cloud kitchens -005/006',\n",
              "        'Galaxy cloud kitchens -005/006', '971.00'],\n",
              "       ['24/05', '', 'INTERESTCHARGE@3.75%(45.0%ANNUAL)',\n",
              "        'INTERESTCHARGE@3.75%(45.0%ANNUAL)', '6638.45'],\n",
              "       ['24/05', '', 'REVERSALOFIGST@ 18%', 'REVERSALOFIGST@ 18%',\n",
              "        '1673.38CR'],\n",
              "       ['24/05', '', 'IGST @ 18%', '', '1994.52'],\n",
              "       ['Addit', 'ional Card', '=>XXXX XXXX XXXX 5529',\n",
              "        '=>XXXX XXXX XXXX 5529', ''],\n",
              "       ['23/04', '47773708259', 'SWIGGY', 'Bengalur', '4518.00'],\n",
              "       ['23/04', '47773941744', 'SWIGGY', 'Bengalur', '2171.00'],\n",
              "       ['25/04', '00408309157', 'Freshtohome Foods Priv ', 'BANGALOR',\n",
              "        '991.88'],\n",
              "       ['25/04', '00410595629', 'JioPay PG', 'MUMBAI', '555.00']],\n",
              "      dtype='<U33')"
            ]
          },
          "metadata": {},
          "execution_count": 63
        }
      ]
    },
    {
      "cell_type": "code",
      "source": [
        "pd.DataFrame(out_array).to_csv('sample.csv')"
      ],
      "metadata": {
        "id": "D8UdX80wBI9V"
      },
      "execution_count": 64,
      "outputs": []
    },
    {
      "cell_type": "markdown",
      "source": [
        "## Merging Cells"
      ],
      "metadata": {
        "id": "E693Ela3qhLx"
      }
    },
    {
      "cell_type": "code",
      "source": [
        "current_bank=['']*len(out_array[0,:])\n",
        "print(current_bank)"
      ],
      "metadata": {
        "colab": {
          "base_uri": "https://localhost:8080/"
        },
        "id": "XNcX7fEWPDfw",
        "outputId": "3a62f4d0-46ba-4cda-fe63-d8544a447871"
      },
      "execution_count": 65,
      "outputs": [
        {
          "output_type": "stream",
          "name": "stdout",
          "text": [
            "['', '', '', '', '']\n"
          ]
        }
      ]
    },
    {
      "cell_type": "code",
      "source": [
        "def empty(arr):\n",
        "  for i in arr:\n",
        "    if i=='':\n",
        "      return True\n",
        "  return False"
      ],
      "metadata": {
        "id": "TTF5ojcCQJKR"
      },
      "execution_count": 66,
      "outputs": []
    },
    {
      "cell_type": "code",
      "source": [
        "cleaned_array=[]"
      ],
      "metadata": {
        "id": "3w1amnEXSVSB"
      },
      "execution_count": 67,
      "outputs": []
    },
    {
      "cell_type": "code",
      "source": [
        "for i in range(len(out_array)):\n",
        "  if not empty(out_array[i]):\n",
        "    current_bank=[out_array[i][j] for j in range(len(out_array[i]))]\n",
        "    cleaned_array.append(current_bank)\n",
        "    not_empty=True\n",
        "  else:\n",
        "    for j in range(len(out_array[i])):\n",
        "      current_bank[j]+=' '+out_array[i][j]\n",
        "    print('-->',current_bank)\n",
        "cleaned_array=np.array(cleaned_array)\n",
        "print(cleaned_array)"
      ],
      "metadata": {
        "id": "W_q9e2EkPepQ",
        "colab": {
          "base_uri": "https://localhost:8080/"
        },
        "outputId": "cc058a06-e0ea-4b54-db57-f0b6f9554798"
      },
      "execution_count": 68,
      "outputs": [
        {
          "output_type": "stream",
          "name": "stdout",
          "text": [
            "--> ['24/05 24/05', '99913144003 ', 'Galaxy cloud kitchens -005/006 INTERESTCHARGE@3.75%(45.0%ANNUAL)', 'Galaxy cloud kitchens -005/006 INTERESTCHARGE@3.75%(45.0%ANNUAL)', '971.00 6638.45']\n",
            "--> ['24/05 24/05 24/05', '99913144003  ', 'Galaxy cloud kitchens -005/006 INTERESTCHARGE@3.75%(45.0%ANNUAL) REVERSALOFIGST@ 18%', 'Galaxy cloud kitchens -005/006 INTERESTCHARGE@3.75%(45.0%ANNUAL) REVERSALOFIGST@ 18%', '971.00 6638.45 1673.38CR']\n",
            "--> ['24/05 24/05 24/05 24/05', '99913144003   ', 'Galaxy cloud kitchens -005/006 INTERESTCHARGE@3.75%(45.0%ANNUAL) REVERSALOFIGST@ 18% IGST @ 18%', 'Galaxy cloud kitchens -005/006 INTERESTCHARGE@3.75%(45.0%ANNUAL) REVERSALOFIGST@ 18% ', '971.00 6638.45 1673.38CR 1994.52']\n",
            "--> ['24/05 24/05 24/05 24/05 Addit', '99913144003    ional Card', 'Galaxy cloud kitchens -005/006 INTERESTCHARGE@3.75%(45.0%ANNUAL) REVERSALOFIGST@ 18% IGST @ 18% =>XXXX XXXX XXXX 5529', 'Galaxy cloud kitchens -005/006 INTERESTCHARGE@3.75%(45.0%ANNUAL) REVERSALOFIGST@ 18%  =>XXXX XXXX XXXX 5529', '971.00 6638.45 1673.38CR 1994.52 ']\n",
            "[['03/05' '17692819624' 'Adani Electricity' 'www.adan' '7561.95']\n",
            " ['03/05' '17695770402' 'Adani Electricity' 'www.adan' '6866.25']\n",
            " ['16/05' '48214192783' 'ADANIELECMUM' 'MUMBAI' '9019.56']\n",
            " ['18/05' '00404901886' 'CIT*McAfee Ireland Lim Netherla'\n",
            "  'CIT*McAfee Ireland Lim Netherla' '3499.00']\n",
            " ['24/05' '00067144003' 'TOP DOGHEALTHCARE PVT -005/012'\n",
            "  'TOP DOGHEALTHCARE PVT -005/012' '655.00']\n",
            " ['24/05' '15347144003' 'TOP DOG HEALTHCARE PVT-005/012'\n",
            "  'TOP DOG HEALTHCARE PVT-005/012' '9996.00']\n",
            " ['24/05' '30043144003' 'BAFNA MEDICALand GEN-005/012'\n",
            "  'BAFNA MEDICALand GEN-005/012' '774.00']\n",
            " ['24/05' '37633144003' 'ENHANCED PAYLITEEMI-014/036'\n",
            "  'ENHANCED PAYLITEEMI-014/036' '9822.00']\n",
            " ['24/05' '41078144003' 'Pasfar Technologies' '-005/012' '469.00']\n",
            " ['24/05' '56476144003' 'BAFNAMEDICALand GEN-005/012'\n",
            "  'BAFNAMEDICALand GEN-005/012' '756.00']\n",
            " ['24/05' '75815144003' 'PINNACLE IMAGINE' '-005/012' '1135.00']\n",
            " ['24/05' '78984144003' 'TOP DOGHEALTHCARE PVT -005/012'\n",
            "  'TOP DOGHEALTHCARE PVT -005/012' '1497.00']\n",
            " ['24/05' '88367144003' 'Pasfar Technologies' '-005/012' '1339.00']\n",
            " ['24/05' '97030144003' 'Galaxy cloud kitchens -005/012'\n",
            "  'Galaxy cloud kitchens -005/012' '754.00']\n",
            " ['24/05 24/05 24/05 24/05 Addit' '99913144003    ional Card'\n",
            "  'Galaxy cloud kitchens -005/006 INTERESTCHARGE@3.75%(45.0%ANNUAL) REVERSALOFIGST@ 18% IGST @ 18% =>XXXX XXXX XXXX 5529'\n",
            "  'Galaxy cloud kitchens -005/006 INTERESTCHARGE@3.75%(45.0%ANNUAL) REVERSALOFIGST@ 18%  =>XXXX XXXX XXXX 5529'\n",
            "  '971.00 6638.45 1673.38CR 1994.52 ']\n",
            " ['23/04' '47773708259' 'SWIGGY' 'Bengalur' '4518.00']\n",
            " ['23/04' '47773941744' 'SWIGGY' 'Bengalur' '2171.00']\n",
            " ['25/04' '00408309157' 'Freshtohome Foods Priv ' 'BANGALOR' '991.88']\n",
            " ['25/04' '00410595629' 'JioPay PG' 'MUMBAI' '555.00']]\n"
          ]
        }
      ]
    },
    {
      "cell_type": "code",
      "source": [
        "pd.DataFrame(cleaned_array).to_csv('cleaned.csv')"
      ],
      "metadata": {
        "id": "RZltyMmD_E68"
      },
      "execution_count": 69,
      "outputs": []
    },
    {
      "cell_type": "markdown",
      "source": [
        "# Convert to OWL Format"
      ],
      "metadata": {
        "id": "M9rH5mX9Mx7g"
      }
    },
    {
      "cell_type": "markdown",
      "source": [
        "# **CSV to Text**"
      ],
      "metadata": {
        "id": "SqFdbM634H5w"
      }
    },
    {
      "cell_type": "code",
      "source": [
        "import  jpype     \n",
        "import  asposecells  \n",
        "\n",
        "\n",
        "jpype.startJVM() \n",
        "from asposecells.api import Workbook\n",
        "\n",
        "workbook = Workbook(\"/content/sample.csv\")\n",
        "workbook.save(\"Output.docx\")\n",
        "jpype.shutdownJVM()"
      ],
      "metadata": {
        "id": "949GB9T1_Go7",
        "colab": {
          "base_uri": "https://localhost:8080/",
          "height": 373
        },
        "outputId": "e5522807-cb41-440c-bc21-b64eb6b4d444"
      },
      "execution_count": 70,
      "outputs": [
        {
          "output_type": "error",
          "ename": "ModuleNotFoundError",
          "evalue": "ignored",
          "traceback": [
            "\u001b[0;31m---------------------------------------------------------------------------\u001b[0m",
            "\u001b[0;31mModuleNotFoundError\u001b[0m                       Traceback (most recent call last)",
            "\u001b[0;32m<ipython-input-70-0cc478de6e7d>\u001b[0m in \u001b[0;36m<module>\u001b[0;34m\u001b[0m\n\u001b[0;32m----> 1\u001b[0;31m \u001b[0;32mimport\u001b[0m  \u001b[0mjpype\u001b[0m\u001b[0;34m\u001b[0m\u001b[0;34m\u001b[0m\u001b[0m\n\u001b[0m\u001b[1;32m      2\u001b[0m \u001b[0;32mimport\u001b[0m  \u001b[0masposecells\u001b[0m\u001b[0;34m\u001b[0m\u001b[0;34m\u001b[0m\u001b[0m\n\u001b[1;32m      3\u001b[0m \u001b[0;34m\u001b[0m\u001b[0m\n\u001b[1;32m      4\u001b[0m \u001b[0;34m\u001b[0m\u001b[0m\n\u001b[1;32m      5\u001b[0m \u001b[0mjpype\u001b[0m\u001b[0;34m.\u001b[0m\u001b[0mstartJVM\u001b[0m\u001b[0;34m(\u001b[0m\u001b[0;34m)\u001b[0m\u001b[0;34m\u001b[0m\u001b[0;34m\u001b[0m\u001b[0m\n",
            "\u001b[0;31mModuleNotFoundError\u001b[0m: No module named 'jpype'",
            "",
            "\u001b[0;31m---------------------------------------------------------------------------\u001b[0;32m\nNOTE: If your import is failing due to a missing package, you can\nmanually install dependencies using either !pip or !apt.\n\nTo view examples of installing some common dependencies, click the\n\"Open Examples\" button below.\n\u001b[0;31m---------------------------------------------------------------------------\u001b[0m\n"
          ],
          "errorDetails": {
            "actions": [
              {
                "action": "open_url",
                "actionText": "Open Examples",
                "url": "/notebooks/snippets/importing_libraries.ipynb"
              }
            ]
          }
        }
      ]
    },
    {
      "cell_type": "code",
      "source": [],
      "metadata": {
        "id": "eIGJDS7u4DLS"
      },
      "execution_count": null,
      "outputs": []
    },
    {
      "cell_type": "code",
      "source": [],
      "metadata": {
        "id": "ziHBaaCn4DN2"
      },
      "execution_count": null,
      "outputs": []
    },
    {
      "cell_type": "markdown",
      "source": [
        "# Brighten Image (For Anyone dealing with PDFs created from scanned images)"
      ],
      "metadata": {
        "id": "FIzj02CHqce7"
      }
    },
    {
      "cell_type": "code",
      "source": [
        "from PIL import Image, ImageEnhance\n",
        "\n",
        "#read the image\n",
        "im = Image.open(\"ext_im.jpg\")\n",
        "\n",
        "#image brightness enhancer\n",
        "enhancer = ImageEnhance.Brightness(im)\n",
        "\n",
        "factor = 1 #gives original image\n",
        "im_output = enhancer.enhance(factor)\n",
        "im_output.save('ext_im-1.jpg')\n",
        "\n",
        "factor = 1.5## brightens the image\n",
        "im_output = enhancer.enhance(factor)\n",
        "im_output.save('ext_im-2.jpg')\n"
      ],
      "metadata": {
        "id": "vnzqj5q34DQk"
      },
      "execution_count": null,
      "outputs": []
    },
    {
      "cell_type": "code",
      "source": [],
      "metadata": {
        "id": "arQSfE2br7YT"
      },
      "execution_count": null,
      "outputs": []
    }
  ],
  "metadata": {
    "accelerator": "GPU",
    "colab": {
      "collapsed_sections": [
        "E693Ela3qhLx",
        "SqFdbM634H5w",
        "FIzj02CHqce7"
      ],
      "provenance": [],
      "include_colab_link": true
    },
    "kernelspec": {
      "display_name": "Python 3",
      "name": "python3"
    },
    "language_info": {
      "name": "python"
    }
  },
  "nbformat": 4,
  "nbformat_minor": 0
}